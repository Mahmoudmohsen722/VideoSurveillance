{
 "cells": [
  {
   "cell_type": "code",
   "execution_count": 1,
   "id": "7dbab89e",
   "metadata": {},
   "outputs": [],
   "source": [
    "import dlib"
   ]
  },
  {
   "cell_type": "code",
   "execution_count": 2,
   "id": "a4b7b292",
   "metadata": {},
   "outputs": [],
   "source": [
    "import numpy as np\n",
    "import time\n",
    "import os\n",
    "import glob\n",
    "import matplotlib.pyplot as plt\n",
    "from moviepy.editor import VideoFileClip\n",
    "from moviepy.editor import *\n",
    "from IPython.display import HTML\n",
    "from PIL import Image\n",
    "%matplotlib inline"
   ]
  },
  {
   "cell_type": "code",
   "execution_count": 3,
   "id": "f39d9315",
   "metadata": {},
   "outputs": [],
   "source": [
    "import cv2 as cv"
   ]
  },
  {
   "cell_type": "code",
   "execution_count": 4,
   "id": "fd33c75d",
   "metadata": {},
   "outputs": [],
   "source": [
    "detector = dlib.get_frontal_face_detector()"
   ]
  },
  {
   "cell_type": "code",
   "execution_count": 5,
   "id": "79cf9f31",
   "metadata": {},
   "outputs": [],
   "source": [
    "predictor = dlib.shape_predictor(\"shape_predictor_68_face_landmarks.dat\")"
   ]
  },
  {
   "cell_type": "code",
   "execution_count": 6,
   "id": "867a2372",
   "metadata": {},
   "outputs": [],
   "source": [
    "def detect_face_video_camera():\n",
    "    cap = cv.VideoCapture(0)\n",
    "    while True:\n",
    "        _ , frame = cap.read()\n",
    "        gray = cv.cvtColor(frame, cv.COLOR_RGB2GRAY)\n",
    "        #call the function that detect on faces\n",
    "        faces = detector(gray)\n",
    "        for face in faces:\n",
    "            #print(face)\n",
    "            x1 = face.left()\n",
    "            y1 = face.top()\n",
    "            x2 = face.right()\n",
    "            y2 = face.bottom()\n",
    "            cv.rectangle(frame, (x1, y1), (x2, y2), (0,0,255), 3)\n",
    "            landmarks = predictor(gray, face)\n",
    "            for n in range(1,68):\n",
    "                x = landmarks.part(n).x\n",
    "                y = landmarks.part(n).y\n",
    "                \n",
    "        cv.imshow('frame', frame)\n",
    "      \n",
    "    # the 'q' button is set as the\n",
    "    # quitting button you may use any\n",
    "    # desired button of your choice\n",
    "        if cv.waitKey(1) & 0xFF == ord('q'):\n",
    "            break\n",
    "  \n",
    "# After the loop release the cap object\n",
    "    cap.release()\n",
    "# Destroy all the windows\n",
    "    cv.destroyAllWindows()\n",
    "        \n",
    "    \n",
    "#cv.waitKey(0)"
   ]
  },
  {
   "cell_type": "code",
   "execution_count": 7,
   "id": "202a54b3",
   "metadata": {},
   "outputs": [],
   "source": [
    "def detect_face_video(video_path):\n",
    "    cap = cv.VideoCapture(video_path)\n",
    "    while True:\n",
    "        _ , frame = cap.read()\n",
    "        gray = cv.cvtColor(frame, cv.COLOR_RGB2GRAY)\n",
    "        #call the function that detect on faces\n",
    "        faces = detector(gray)\n",
    "        for face in faces:\n",
    "            #print(face)\n",
    "            x1 = face.left()\n",
    "            y1 = face.top()\n",
    "            x2 = face.right()\n",
    "            y2 = face.bottom()\n",
    "            cv.rectangle(frame, (x1, y1), (x2, y2), (0,0,255), 3)\n",
    "            #landmarks = predictor(gray, face)\n",
    "        cv.imshow('frame', frame)\n",
    "      \n",
    "    # the 'q' button is set as the\n",
    "    # quitting button you may use any\n",
    "    # desired button of your choice\n",
    "        if cv.waitKey(1) & 0xFF == ord('q'):\n",
    "            break\n",
    "  \n",
    "# After the loop release the cap object\n",
    "    cap.release()\n",
    "# Destroy all the windows\n",
    "    cv.destroyAllWindows()"
   ]
  },
  {
   "cell_type": "code",
   "execution_count": 8,
   "id": "a510b536",
   "metadata": {},
   "outputs": [],
   "source": [
    "def detect_face_pipeline(img):\n",
    "    gray = cv.cvtColor(img, cv.COLOR_RGB2GRAY)\n",
    "    #call the function that detect faces on image\n",
    "    faces = detector(gray)\n",
    "    #for each face, draw box\n",
    "    for face in faces:\n",
    "        #print(face)\n",
    "        x1 = face.left() #(point1, point2 )\n",
    "        y1 = face.top()\n",
    "        x2 = face.right()\n",
    "        y2 = face.bottom()\n",
    "        cv.rectangle(img, (x1, y1), (x2, y2), (0,0,255), 3)\n",
    "        #landmarks = predictor(gray, face)\n",
    "    #cv.imshow(' ', img)\n",
    "    #cv.waitKey(0)\n",
    "    return img"
   ]
  },
  {
   "cell_type": "code",
   "execution_count": 9,
   "id": "248534db",
   "metadata": {},
   "outputs": [],
   "source": [
    "path = './Resources/outside_000001.jpg'\n",
    "#detect_face_video(path)"
   ]
  },
  {
   "cell_type": "code",
   "execution_count": null,
   "id": "350a819b",
   "metadata": {},
   "outputs": [],
   "source": [
    "#img = cv.imread('./WhatsApp Image 2022-10-12 at 8.35.15 PM.jpeg')\n",
    "img = cv.imread(path)\n",
    "cv.imshow('  ', img)\n",
    "img2 = detect_face_pipeline(img)\n",
    "cv.imshow(' ', img2)\n",
    "\n",
    "cv.waitKey(0)"
   ]
  },
  {
   "cell_type": "code",
   "execution_count": 1,
   "id": "e6239ca2",
   "metadata": {},
   "outputs": [],
   "source": [
    "def Create_Video(input_path,output_path):\n",
    "    video_input = VideoFileClip(input_path)\n",
    "    clip = video_input.subclip(0, 10)\n",
    "    processed_video = clip.fl_image(detect_face_pipeline)\n",
    "    %time  clip.write_videofile(output_path, audio=False)\n",
    "    #clip.ipython_display()"
   ]
  },
  {
   "cell_type": "code",
   "execution_count": 14,
   "id": "64e4af45",
   "metadata": {},
   "outputs": [
    {
     "name": "stdout",
     "output_type": "stream",
     "text": [
      "Moviepy - Building video output1.mp4.\n",
      "Moviepy - Writing video output1.mp4\n",
      "\n"
     ]
    },
    {
     "name": "stderr",
     "output_type": "stream",
     "text": [
      "                                                              \r"
     ]
    },
    {
     "name": "stdout",
     "output_type": "stream",
     "text": [
      "Moviepy - Done !\n",
      "Moviepy - video ready output1.mp4\n",
      "Wall time: 6.71 s\n"
     ]
    }
   ],
   "source": [
    "#Create_Video('./M G ROAD CROWD WALKING _ STOCK FOOTAGES.mp4', 'output1.mp4')"
   ]
  },
  {
   "cell_type": "code",
   "execution_count": 9,
   "id": "7bc0c59c",
   "metadata": {},
   "outputs": [],
   "source": [
    "detect_face_video('./M G ROAD CROWD WALKING _ STOCK FOOTAGES.mp4')"
   ]
  },
  {
   "cell_type": "code",
   "execution_count": null,
   "id": "0ad38a8b",
   "metadata": {},
   "outputs": [],
   "source": []
  }
 ],
 "metadata": {
  "kernelspec": {
   "display_name": "Python 3 (ipykernel)",
   "language": "python",
   "name": "python3"
  },
  "language_info": {
   "codemirror_mode": {
    "name": "ipython",
    "version": 3
   },
   "file_extension": ".py",
   "mimetype": "text/x-python",
   "name": "python",
   "nbconvert_exporter": "python",
   "pygments_lexer": "ipython3",
   "version": "3.9.12"
  }
 },
 "nbformat": 4,
 "nbformat_minor": 5
}
