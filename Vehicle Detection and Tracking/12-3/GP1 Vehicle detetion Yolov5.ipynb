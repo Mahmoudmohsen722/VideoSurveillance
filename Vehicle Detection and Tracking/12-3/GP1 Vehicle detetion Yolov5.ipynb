{
 "cells": [
  {
   "cell_type": "code",
   "execution_count": 1,
   "id": "6473d943",
   "metadata": {},
   "outputs": [],
   "source": [
    "import os\n",
    "os.chdir(r\"E:\\Car-Counting-and-tracking-in-highway-by-YOLOv5-main\\Car-Counting-and-tracking-in-highway-by-YOLOv5-main\")"
   ]
  },
  {
   "cell_type": "code",
   "execution_count": 74,
   "id": "ed6794db",
   "metadata": {},
   "outputs": [
    {
     "name": "stderr",
     "output_type": "stream",
     "text": [
      "Using cache found in C:\\Users\\ahmed/.cache\\torch\\hub\\ultralytics_yolov5_master\n",
      "\u001b[31m\u001b[1mrequirements:\u001b[0m YOLOv5 requirement \"setuptools>=65.5.1\" not found, attempting AutoUpdate...\n",
      "Requirement already satisfied: setuptools>=65.5.1 in c:\\users\\ahmed\\anaconda3\\lib\\site-packages (67.6.0)\n",
      "\n",
      "\u001b[31m\u001b[1mrequirements:\u001b[0m 1 package updated per C:\\Users\\ahmed\\.cache\\torch\\hub\\ultralytics_yolov5_master\\requirements.txt\n",
      "\u001b[31m\u001b[1mrequirements:\u001b[0m  \u001b[1mRestart runtime or rerun command for updates to take effect\u001b[0m\n",
      "\n",
      "YOLOv5  2023-3-8 Python-3.9.12 torch-1.12.1+cpu CPU\n",
      "\n",
      "Fusing layers... \n",
      "YOLOv5s summary: 213 layers, 7225885 parameters, 0 gradients\n",
      "Adding AutoShape... \n"
     ]
    },
    {
     "name": "stdout",
     "output_type": "stream",
     "text": [
      "[459, 179]\n",
      "[505, 145]\n",
      "[508, 170]\n",
      "[510, 171]\n",
      "[539, 171]\n"
     ]
    }
   ],
   "source": [
    "import cv2\n",
    "import torch\n",
    "import numpy as np\n",
    "from tracker import *\n",
    "\n",
    "\n",
    "model = torch.hub.load('ultralytics/yolov5', 'yolov5s', pretrained=True)\n",
    "\n",
    "cap=cv2.VideoCapture('City Traffic (Stock Footage).mp4')\n",
    "\n",
    "tracker = Tracker()\n",
    "\n",
    "fourcc = cv2.VideoWriter_fourcc(*'mp4v')\n",
    "out = cv2.VideoWriter('output.mp4', fourcc, 100.0, (1020,600))\n",
    "\n",
    "\n",
    "def POINTS(event, x, y, flags, param):\n",
    "    if event == cv2.EVENT_MOUSEMOVE :  \n",
    "        colorsBGR = [x, y]\n",
    "        print(colorsBGR)\n",
    "        \n",
    "\n",
    "cv2.namedWindow('FRAME')\n",
    "cv2.setMouseCallback('FRAME', POINTS)\n",
    "area = [(50,445),(470,445),(470,500),(0,500)]\n",
    "area1 = [(560,445),(1000,445),(1010,500),(570,500)]\n",
    "\n",
    "c = set()\n",
    "C = set()\n",
    "while True:\n",
    "    ret,frame=cap.read()\n",
    "    if not ret:\n",
    "        break\n",
    "\n",
    "    frame=cv2.resize(frame,(1020,600))\n",
    "#     frame = cv2.flip(frame,0)\n",
    "    cv2.polylines(frame,[np.array(area,np.int32)],True,(0,0,255),5)\n",
    "    cv2.polylines(frame,[np.array(area1,np.int32)],True,(0,255,0),5)\n",
    "    results=model(frame)\n",
    "    points = []\n",
    "    for index , row in results.pandas().xyxy[0].iterrows():\n",
    "        x1 = int(row['xmin'])\n",
    "        y1 = int(row['ymin'])\n",
    "        x2 = int(row['xmax'])\n",
    "        y2 = int(row['ymax'])\n",
    "        n=(row['name'])\n",
    "        if 'car' in n:\n",
    "            points.append([x1,y1,x2,y2])\n",
    "            #cv2.rectangle(frame,(x1,y1),(x2,y2),(255,0,255),2)\n",
    "            #cv2.putText(frame,str(n),(x1,y1),cv2.FONT_HERSHEY_PLAIN,2,(255,0,0),2)\n",
    "        \n",
    "    boxes_id = tracker.update(points) \n",
    "    #print(boxes_id)\n",
    "    for box_id in boxes_id:\n",
    "        x , y , w , h , idd = box_id\n",
    "        cv2.rectangle(frame,(x,y),(w,h),(255,0,0),3)\n",
    "        cv2.putText(frame,str(idd),(x,y),cv2.FONT_HERSHEY_PLAIN,2,(0,0,0),3)\n",
    "        cv2.circle(frame,(w,h),5,(20,20,255),-1)\n",
    "        results = cv2.pointPolygonTest(np.array(area,np.int32),(w,h),False)\n",
    "        results1 = cv2.pointPolygonTest(np.array(area1,np.int32),(w,h),False)\n",
    "        #print(results)\n",
    "        if results>= 0 :\n",
    "            c.add(idd)\n",
    "        if results1>= 0 :\n",
    "            C.add(idd)    \n",
    "        out.write(frame)\n",
    "    a = len(c)\n",
    "    b = len(C)\n",
    "    cv2.putText(frame,'No. of Vehicles in the Red region is ='+str(a),(50,65),cv2.FONT_HERSHEY_PLAIN,2,(0,0,255),3)\n",
    "    cv2.putText(frame,'No. of Vehicles in the Green region is ='+str(b),(50,100),cv2.FONT_HERSHEY_PLAIN,2,(0,255,0),3,-1)\n",
    "    \n",
    "    cv2.imshow(\"FRAME\",frame)\n",
    "    if cv2.waitKey(1)&0xFF==27:\n",
    "        break\n",
    "# cv2.VideoWriter('car.mp4', cv2.VideoWriter_fourcc(*'mp4v'), 100.0, (100, 100), False)        \n",
    "cap.release()\n",
    "out.release()\n",
    "\n",
    "cv2.destroyAllWindows()\n"
   ]
  },
  {
   "cell_type": "code",
   "execution_count": null,
   "id": "9072b3ee",
   "metadata": {},
   "outputs": [],
   "source": []
  },
  {
   "cell_type": "code",
   "execution_count": null,
   "id": "7658267b",
   "metadata": {},
   "outputs": [],
   "source": []
  },
  {
   "cell_type": "code",
   "execution_count": null,
   "id": "e5c0081e",
   "metadata": {},
   "outputs": [],
   "source": []
  }
 ],
 "metadata": {
  "kernelspec": {
   "display_name": "Python 3 (ipykernel)",
   "language": "python",
   "name": "python3"
  },
  "language_info": {
   "codemirror_mode": {
    "name": "ipython",
    "version": 3
   },
   "file_extension": ".py",
   "mimetype": "text/x-python",
   "name": "python",
   "nbconvert_exporter": "python",
   "pygments_lexer": "ipython3",
   "version": "3.9.12"
  }
 },
 "nbformat": 4,
 "nbformat_minor": 5
}
